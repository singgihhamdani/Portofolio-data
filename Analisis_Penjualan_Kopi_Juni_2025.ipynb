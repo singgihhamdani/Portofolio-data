{
  "cells": [
    {
      "cell_type": "code",
      "source": [
        "import pandas as pd\n",
        "import json\n",
        "\n",
        "# Membaca data penjualan dari file JSON yang diunggah\n",
        "# Pastikan file 'penjualan_kopi.json' ada di direktori yang sama atau sertakan path lengkapnya.\n",
        "try:\n",
        "    with open('penjualan_kopi.json', 'r') as file:\n",
        "        sales_data_json = file.read()\n",
        "except FileNotFoundError:\n",
        "    print(\"Error: File 'penjualan_kopi.json' tidak ditemukan.\")\n",
        "    # Sebagai fallback, gunakan data inline jika file tidak ditemukan\n",
        "    sales_data_json = \"\"\"\n",
        "[\n",
        "  {\n",
        "    \"Tanggal\": \"2025-06-01\",\n",
        "    \"Penjualan_Espresso\": 45,\n",
        "    \"Penjualan_Latte\": 60,\n",
        "    \"Penjualan_Cappuccino\": 55,\n",
        "    \"Penjualan_Total\": 160,\n",
        "    \"Pendapatan_Total_IDR\": 4000000\n",
        "  },\n",
        "  {\n",
        "    \"Tanggal\": \"2025-06-02\",\n",
        "    \"Penjualan_Espresso\": 48,\n",
        "    \"Penjualan_Latte\": 65,\n",
        "    \"Penjualan_Cappuccino\": 58,\n",
        "    \"Penjualan_Total\": 171,\n",
        "    \"Pendapatan_Total_IDR\": 4275000\n",
        "  },\n",
        "  {\n",
        "    \"Tanggal\": \"2025-06-03\",\n",
        "    \"Penjualan_Espresso\": 42,\n",
        "    \"Penjualan_Latte\": 58,\n",
        "    \"Penjualan_Cappuccino\": 52,\n",
        "    \"Penjualan_Total\": 152,\n",
        "    \"Pendapatan_Total_IDR\": 3800000\n",
        "  },\n",
        "  {\n",
        "    \"Tanggal\": \"2025-06-04\",\n",
        "    \"Penjualan_Espresso\": 50,\n",
        "    \"Penjualan_Latte\": 70,\n",
        "    \"Penjualan_Cappuccino\": 60,\n",
        "    \"Penjualan_Total\": 180,\n",
        "    \"Pendapatan_Total_IDR\": 4500000\n",
        "  },\n",
        "  {\n",
        "    \"Tanggal\": \"2025-06-05\",\n",
        "    \"Penjualan_Espresso\": 40,\n",
        "    \"Penjualan_Latte\": 55,\n",
        "    \"Penjualan_Cappuccino\": 50,\n",
        "    \"Penjualan_Total\": 145,\n",
        "    \"Pendapatan_Total_IDR\": 3625000\n",
        "  },\n",
        "  {\n",
        "    \"Tanggal\": \"2025-06-06\",\n",
        "    \"Penjualan_Espresso\": 55,\n",
        "    \"Penjualan_Latte\": 75,\n",
        "    \"Penjualan_Cappuccino\": 65,\n",
        "    \"Penjualan_Total\": 195,\n",
        "    \"Pendapatan_Total_IDR\": 4875000\n",
        "  },\n",
        "  {\n",
        "    \"Tanggal\": \"2025-06-07\",\n",
        "    \"Penjualan_Espresso\": 60,\n",
        "    \"Penjualan_Latte\": 80,\n",
        "    \"Penjualan_Cappuccino\": 70,\n",
        "    \"Penjualan_Total\": 210,\n",
        "    \"Pendapatan_Total_IDR\": 5250000\n",
        "  },\n",
        "  {\n",
        "    \"Tanggal\": \"2025-06-08\",\n",
        "    \"Penjualan_Espresso\": 35,\n",
        "    \"Penjualan_Latte\": 50,\n",
        "    \"Penjualan_Cappuccino\": 45,\n",
        "    \"Penjualan_Total\": 130,\n",
        "    \"Pendapatan_Total_IDR\": 3250000\n",
        "  },\n",
        "  {\n",
        "    \"Tanggal\": \"2025-06-09\",\n",
        "    \"Penjualan_Espresso\": 47,\n",
        "    \"Penjualan_Latte\": 62,\n",
        "    \"Penjualan_Cappuccino\": 57,\n",
        "    \"Penjualan_Total\": 166,\n",
        "    \"Pendapatan_Total_IDR\": 4150000\n",
        "  },\n",
        "  {\n",
        "    \"Tanggal\": \"2025-06-10\",\n",
        "    \"Penjualan_Espresso\": 43,\n",
        "    \"Penjualan_Latte\": 59,\n",
        "    \"Penjualan_Cappuccino\": 53,\n",
        "    \"Penjualan_Total\": 155,\n",
        "    \"Pendapatan_Total_IDR\": 3875000\n",
        "  },\n",
        "  {\n",
        "    \"Tanggal\": \"2025-06-11\",\n",
        "    \"Penjualan_Espresso\": 52,\n",
        "    \"Penjualan_Latte\": 72,\n",
        "    \"Penjualan_Cappuccino\": 62,\n",
        "    \"Penjualan_Total\": 186,\n",
        "    \"Pendapatan_Total_IDR\": 4650000\n",
        "  },\n",
        "  {\n",
        "    \"Tanggal\": \"2025-06-12\",\n",
        "    \"Penjualan_Espresso\": 38,\n",
        "    \"Penjualan_Latte\": 53,\n",
        "    \"Penjualan_Cappuccino\": 48,\n",
        "    \"Penjualan_Total\": 139,\n",
        "    \"Pendapatan_Total_IDR\": 3475000\n",
        "  },\n",
        "  {\n",
        "    \"Tanggal\": \"2025-06-13\",\n",
        "    \"Penjualan_Espresso\": 58,\n",
        "    \"Penjualan_Latte\": 78,\n",
        "    \"Penjualan_Cappuccino\": 68,\n",
        "    \"Penjualan_Total\": 204,\n",
        "    \"Pendapatan_Total_IDR\": 5100000\n",
        "  },\n",
        "  {\n",
        "    \"Tanggal\": \"2025-06-14\",\n",
        "    \"Penjualan_Espresso\": 62,\n",
        "    \"Penjualan_Latte\": 85,\n",
        "    \"Penjualan_Cappuccino\": 75,\n",
        "    \"Penjualan_Total\": 222,\n",
        "    \"Pendapatan_Total_IDR\": 5550000\n",
        "  },\n",
        "  {\n",
        "    \"Tanggal\": \"2025-06-15\",\n",
        "    \"Penjualan_Espresso\": 37,\n",
        "    \"Penjualan_Latte\": 52,\n",
        "    \"Penjualan_Cappuccino\": 47,\n",
        "    \"Penjualan_Total\": 136,\n",
        "    \"Pendapatan_Total_IDR\": 3400000\n",
        "  },\n",
        "  {\n",
        "    \"Tanggal\": \"2025-06-16\",\n",
        "    \"Penjualan_Espresso\": 49,\n",
        "    \"Penjualan_Latte\": 68,\n",
        "    \"Penjualan_Cappuccino\": 59,\n",
        "    \"Penjualan_Total\": 176,\n",
        "    \"Pendapatan_Total_IDR\": 4400000\n",
        "  },\n",
        "  {\n",
        "    \"Tanggal\": \"2025-06-17\",\n",
        "    \"Penjualan_Espresso\": 44,\n",
        "    \"Penjualan_Latte\": 61,\n",
        "    \"Penjualan_Cappuccino\": 54,\n",
        "    \"Penjualan_Total\": 159,\n",
        "    \"Pendapatan_Total_IDR\": 3975000\n",
        "  },\n",
        "  {\n",
        "    \"Tanggal\": \"2025-06-18\",\n",
        "    \"Penjualan_Espresso\": 51,\n",
        "    \"Penjualan_Latte\": 69,\n",
        "    \"Penjualan_Cappuccino\": 61,\n",
        "    \"Penjualan_Total\": 181,\n",
        "    \"Pendapatan_Total_IDR\": 4525000\n",
        "  },\n",
        "  {\n",
        "    \"Tanggal\": \"2025-06-19\",\n",
        "    \"Penjualan_Espresso\": 39,\n",
        "    \"Penjualan_Latte\": 54,\n",
        "    \"Penjualan_Cappuccino\": 49,\n",
        "    \"Penjualan_Total\": 142,\n",
        "    \"Pendapatan_Total_IDR\": 3550000\n",
        "  },\n",
        "  {\n",
        "    \"Tanggal\": \"2025-06-20\",\n",
        "    \"Penjualan_Espresso\": 56,\n",
        "    \"Penjualan_Latte\": 76,\n",
        "    \"Penjualan_Cappuccino\": 66,\n",
        "    \"Penjualan_Total\": 198,\n",
        "    \"Pendapatan_Total_IDR\": 4950000\n",
        "  },\n",
        "  {\n",
        "    \"Tanggal\": \"2025-06-21\",\n",
        "    \"Penjualan_Espresso\": 61,\n",
        "    \"Penjualan_Latte\": 82,\n",
        "    \"Penjualan_Cappuccino\": 72,\n",
        "    \"Penjualan_Total\": 215,\n",
        "    \"Pendapatan_Total_IDR\": 5375000\n",
        "  },\n",
        "  {\n",
        "    \"Tanggal\": \"2025-06-22\",\n",
        "    \"Penjualan_Espresso\": 36,\n",
        "    \"Penjualan_Latte\": 51,\n",
        "    \"Penjualan_Cappuccino\": 46,\n",
        "    \"Penjualan_Total\": 133,\n",
        "    \"Pendapatan_Total_IDR\": 3325000\n",
        "  },\n",
        "  {\n",
        "    \"Tanggal\": \"2025-06-23\",\n",
        "    \"Penjualan_Espresso\": 46,\n",
        "    \"Penjualan_Latte\": 63,\n",
        "    \"Penjualan_Cappuccino\": 56,\n",
        "    \"Penjualan_Total\": 165,\n",
        "    \"Pendapatan_Total_IDR\": 4125000\n",
        "  },\n",
        "  {\n",
        "    \"Tanggal\": \"2025-06-24\",\n",
        "    \"Penjualan_Espresso\": 41,\n",
        "    \"Penjualan_Latte\": 57,\n",
        "    \"Penjualan_Cappuccino\": 51,\n",
        "    \"Penjualan_Total\": 149,\n",
        "    \"Pendapatan_Total_IDR\": 3725000\n",
        "  },\n",
        "  {\n",
        "    \"Tanggal\": \"2025-06-25\",\n",
        "    \"Penjualan_Espresso\": 53,\n",
        "    \"Penjualan_Latte\": 71,\n",
        "    \"Penjualan_Cappuccino\": 63,\n",
        "    \"Penjualan_Total\": 187,\n",
        "    \"Pendapatan_Total_IDR\": 4675000\n",
        "  },\n",
        "  {\n",
        "    \"Tanggal\": \"2025-06-26\",\n",
        "    \"Penjualan_Espresso\": 37,\n",
        "    \"Penjualan_Latte\": 50,\n",
        "    \"Penjualan_Cappuccino\": 45,\n",
        "    \"Penjualan_Total\": 132,\n",
        "    \"Pendapatan_Total_IDR\": 3300000\n",
        "  },\n",
        "  {\n",
        "    \"Tanggal\": \"2025-06-27\",\n",
        "    \"Penjualan_Espresso\": 59,\n",
        "    \"Penjualan_Latte\": 79,\n",
        "    \"Penjualan_Cappuccino\": 69,\n",
        "    \"Penjualan_Total\": 207,\n",
        "    \"Pendapatan_Total_IDR\": 5175000\n",
        "  },\n",
        "  {\n",
        "    \"Tanggal\": \"2025-06-28\",\n",
        "    \"Penjualan_Espresso\": 63,\n",
        "    \"Penjualan_Latte\": 86,\n",
        "    \"Penjualan_Cappuccino\": 76,\n",
        "    \"Penjualan_Total\": 225,\n",
        "    \"Pendapatan_Total_IDR\": 5625000\n",
        "  },\n",
        "  {\n",
        "    \"Tanggal\": \"2025-06-29\",\n",
        "    \"Penjualan_Espresso\": 34,\n",
        "    \"Penjualan_Latte\": 49,\n",
        "    \"Penjualan_Cappuccino\": 44,\n",
        "    \"Penjualan_Total\": 127,\n",
        "    \"Pendapatan_Total_IDR\": 3175000\n",
        "  },\n",
        "  {\n",
        "    \"Tanggal\": \"2025-06-30\",\n",
        "    \"Penjualan_Espresso\": 48,\n",
        "    \"Penualan_Latte\": 64,\n",
        "    \"Penjualan_Cappuccino\": 57,\n",
        "    \"Penjualan_Total\": 169,\n",
        "    \"Pendapatan_Total_IDR\": 4225000\n",
        "  },\n",
        "  {\n",
        "    \"Tanggal\": \"2025-07-01\",\n",
        "    \"Penjualan_Espresso\": 50,\n",
        "    \"Penjualan_Latte\": 67,\n",
        "    \"Penjualan_Cappuccino\": 60,\n",
        "    \"Penjualan_Total\": 177,\n",
        "    \"Pendapatan_Total_IDR\": 4425000\n",
        "  }\n",
        "]\n",
        "\"\"\""
      ],
      "outputs": [
        {
          "output_type": "stream",
          "name": "stdout",
          "text": [
            "Error: File 'penjualan_kopi.json' tidak ditemukan.\n"
          ]
        }
      ],
      "execution_count": 3,
      "metadata": {
        "colab": {
          "base_uri": "https://localhost:8080/"
        },
        "id": "1PWPEgxdB5s3",
        "outputId": "9acceda7-0eca-47be-dc87-01ce1ffd9901"
      }
    },
    {
      "cell_type": "code",
      "source": [
        "# Memuat data ke DataFrame pandas\n",
        "df = pd.DataFrame(json.loads(sales_data_json))"
      ],
      "metadata": {
        "id": "vBgpNhhdCJFE"
      },
      "execution_count": 4,
      "outputs": []
    },
    {
      "cell_type": "code",
      "source": [
        "# Mengonversi kolom 'Tanggal' ke format datetime\n",
        "df['Tanggal'] = pd.to_datetime(df['Tanggal'])"
      ],
      "metadata": {
        "id": "H9nW8CIlCTT7"
      },
      "execution_count": 5,
      "outputs": []
    },
    {
      "cell_type": "code",
      "source": [
        "# Filter data untuk bulan Juni 2025\n",
        "df_juni = df[df['Tanggal'].dt.month == 6]\n"
      ],
      "metadata": {
        "id": "u3ANT5sPCKGn"
      },
      "execution_count": 6,
      "outputs": []
    },
    {
      "cell_type": "code",
      "source": [
        "# --- Analisis Penjualan ---\n",
        "\n",
        "# Total Penjualan dan Pendapatan bulan Juni\n",
        "total_penjualan_juni = df_juni['Penjualan_Total'].sum()\n",
        "total_pendapatan_juni = df_juni['Pendapatan_Total_IDR'].sum()\n",
        "\n",
        "print(\"--- Ringkasan Penjualan Bulan Juni 2025 ---\")\n",
        "print(f\"Total Penjualan: {total_penjualan_juni} unit\")\n",
        "print(f\"Total Pendapatan: Rp {total_pendapatan_juni:,.0f}\")\n",
        "print(\"-\" * 40)"
      ],
      "metadata": {
        "colab": {
          "base_uri": "https://localhost:8080/"
        },
        "id": "1DLyG1aXCZFP",
        "outputId": "c767f73d-5b43-4c45-dec5-db68dc9c49df"
      },
      "execution_count": 7,
      "outputs": [
        {
          "output_type": "stream",
          "name": "stdout",
          "text": [
            "--- Ringkasan Penjualan Bulan Juni 2025 ---\n",
            "Total Penjualan: 5116 unit\n",
            "Total Pendapatan: Rp 127,900,000\n",
            "----------------------------------------\n"
          ]
        }
      ]
    },
    {
      "cell_type": "code",
      "source": [
        "# Penjualan per jenis kopi\n",
        "penjualan_per_jenis = df_juni[['Penjualan_Espresso', 'Penjualan_Latte', 'Penjualan_Cappuccino']].sum()\n",
        "print(\"Penjualan per Jenis Kopi:\")\n",
        "print(penjualan_per_jenis.sort_values(ascending=False))\n",
        "print(\"-\" * 40)\n"
      ],
      "metadata": {
        "colab": {
          "base_uri": "https://localhost:8080/"
        },
        "id": "10OliHZwCbsc",
        "outputId": "fedc47d5-dd3b-4be2-d766-0c3d72104c3e"
      },
      "execution_count": 8,
      "outputs": [
        {
          "output_type": "stream",
          "name": "stdout",
          "text": [
            "Penjualan per Jenis Kopi:\n",
            "Penjualan_Latte         1890.0\n",
            "Penjualan_Cappuccino    1733.0\n",
            "Penjualan_Espresso      1429.0\n",
            "dtype: float64\n",
            "----------------------------------------\n"
          ]
        }
      ]
    },
    {
      "cell_type": "code",
      "source": [
        "# Hari dengan penjualan tertinggi\n",
        "hari_penjualan_tertinggi = df_juni.loc[df_juni['Penjualan_Total'].idxmax()]\n",
        "print(\"Hari dengan Penjualan Tertinggi:\")\n",
        "print(f\"Tanggal: {hari_penjualan_tertinggi['Tanggal'].strftime('%Y-%m-%d')}\")\n",
        "print(f\"Total Penjualan: {hari_penjualan_tertinggi['Penjualan_Total']} unit\")\n",
        "print(f\"Pendapatan: Rp {hari_penjualan_tertinggi['Pendapatan_Total_IDR']:,.0f}\")\n",
        "print(\"-\" * 40)\n"
      ],
      "metadata": {
        "colab": {
          "base_uri": "https://localhost:8080/"
        },
        "id": "4p8Cg93XCd27",
        "outputId": "0ac4541c-7e58-43bb-b35c-fd29705377e5"
      },
      "execution_count": 9,
      "outputs": [
        {
          "output_type": "stream",
          "name": "stdout",
          "text": [
            "Hari dengan Penjualan Tertinggi:\n",
            "Tanggal: 2025-06-28\n",
            "Total Penjualan: 225 unit\n",
            "Pendapatan: Rp 5,625,000\n",
            "----------------------------------------\n"
          ]
        }
      ]
    },
    {
      "cell_type": "code",
      "source": [
        "# Hari dengan penjualan terendah\n",
        "hari_penjualan_terendah = df_juni.loc[df_juni['Penjualan_Total'].idxmin()]\n",
        "print(\"Hari dengan Penjualan Terendah:\")\n",
        "print(f\"Tanggal: {hari_penjualan_terendah['Tanggal'].strftime('%Y-%m-%d')}\") # Fixed: changed Tanggal.Tanggal to Tanggal\n",
        "print(f\"Total Penjualan: {hari_penjualan_terendah['Penjualan_Total']} unit\")\n",
        "print(f\"Pendapatan: Rp {hari_penjualan_terendah['Pendapatan_Total_IDR']:,.0f}\")\n",
        "print(\"-\" * 40)\n"
      ],
      "metadata": {
        "colab": {
          "base_uri": "https://localhost:8080/"
        },
        "id": "ZA05eprnCgxX",
        "outputId": "1648d997-9842-4c93-c459-a7fe6c32ec38"
      },
      "execution_count": 10,
      "outputs": [
        {
          "output_type": "stream",
          "name": "stdout",
          "text": [
            "Hari dengan Penjualan Terendah:\n",
            "Tanggal: 2025-06-29\n",
            "Total Penjualan: 127 unit\n",
            "Pendapatan: Rp 3,175,000\n",
            "----------------------------------------\n"
          ]
        }
      ]
    },
    {
      "cell_type": "code",
      "source": [
        "# Rata-rata penjualan harian\n",
        "rata_rata_penjualan_harian = df_juni['Penjualan_Total'].mean()\n",
        "rata_rata_pendapatan_harian = df_juni['Pendapatan_Total_IDR'].mean()\n",
        "print(\"Rata-rata Harian:\")\n",
        "print(f\"Rata-rata Penjualan Harian: {rata_rata_penjualan_harian:.2f} unit\")\n",
        "print(f\"Rata-rata Pendapatan Harian: Rp {rata_rata_pendapatan_harian:,.0f}\")\n",
        "print(\"-\" * 40)\n"
      ],
      "metadata": {
        "colab": {
          "base_uri": "https://localhost:8080/"
        },
        "id": "2XmPUYiSCijw",
        "outputId": "ea673c7b-348b-4a1d-a594-5e412d233d7a"
      },
      "execution_count": 11,
      "outputs": [
        {
          "output_type": "stream",
          "name": "stdout",
          "text": [
            "Rata-rata Harian:\n",
            "Rata-rata Penjualan Harian: 170.53 unit\n",
            "Rata-rata Pendapatan Harian: Rp 4,263,333\n",
            "----------------------------------------\n"
          ]
        }
      ]
    },
    {
      "cell_type": "code",
      "source": [
        "# Tren penjualan (sederhana: membandingkan paruh pertama dan kedua bulan)\n",
        "mid_month = pd.to_datetime('2025-06-15')\n",
        "penjualan_paruh_pertama = df_juni[df_juni['Tanggal'] <= mid_month]['Penjualan_Total'].sum()\n",
        "penjualan_paruh_kedua = df_juni[df_juni['Tanggal'] > mid_month]['Penjualan_Total'].sum()\n",
        "\n",
        "print(\"Tren Penjualan (Paruh Bulan):\")\n",
        "print(f\"Total Penjualan Paruh Pertama (1-15 Juni): {penjualan_paruh_pertama} unit\")\n",
        "print(f\"Total Penjualan Paruh Kedua (16-30 Juni): {penjualan_paruh_kedua} unit\")\n",
        "\n",
        "if penjualan_paruh_kedua > penjualan_paruh_pertama:\n",
        "    print(\"Terjadi peningkatan penjualan di paruh kedua bulan Juni.\")\n",
        "elif penjualan_paruh_kedua < penjualan_paruh_pertama:\n",
        "    print(\"Terjadi penurunan penjualan di paruh kedua bulan Juni.\")\n",
        "else:\n",
        "    print(\"Penjualan di paruh pertama dan kedua bulan Juni relatif stabil.\")\n",
        "\n",
        "print(\"-\" * 40)"
      ],
      "metadata": {
        "colab": {
          "base_uri": "https://localhost:8080/"
        },
        "id": "DRSvO93qCkNn",
        "outputId": "33c3ce73-d938-40f7-af12-2011628fc829"
      },
      "execution_count": 12,
      "outputs": [
        {
          "output_type": "stream",
          "name": "stdout",
          "text": [
            "Tren Penjualan (Paruh Bulan):\n",
            "Total Penjualan Paruh Pertama (1-15 Juni): 2551 unit\n",
            "Total Penjualan Paruh Kedua (16-30 Juni): 2565 unit\n",
            "Terjadi peningkatan penjualan di paruh kedua bulan Juni.\n",
            "----------------------------------------\n"
          ]
        }
      ]
    },
    {
      "cell_type": "code",
      "source": [
        "# Harga rata-rata per unit (estimasi)\n",
        "# Karena ada 3 jenis kopi dengan harga yang berbeda, ini adalah estimasi harga rata-rata keseluruhan\n",
        "harga_per_unit = total_pendapatan_juni / total_penjualan_juni\n",
        "print(f\"Estimasi Harga Rata-rata per Unit Kopi: Rp {harga_per_unit:,.0f}\")\n",
        "print(\"-\" * 40)"
      ],
      "metadata": {
        "colab": {
          "base_uri": "https://localhost:8080/"
        },
        "id": "ucNtYhtyCm6r",
        "outputId": "cc5fda23-255f-4caf-ff75-46dd7bbfe4c1"
      },
      "execution_count": 13,
      "outputs": [
        {
          "output_type": "stream",
          "name": "stdout",
          "text": [
            "Estimasi Harga Rata-rata per Unit Kopi: Rp 25,000\n",
            "----------------------------------------\n"
          ]
        }
      ]
    }
  ],
  "metadata": {
    "colab": {
      "provenance": []
    },
    "kernelspec": {
      "display_name": "Python 3",
      "name": "python3"
    }
  },
  "nbformat": 4,
  "nbformat_minor": 0
}